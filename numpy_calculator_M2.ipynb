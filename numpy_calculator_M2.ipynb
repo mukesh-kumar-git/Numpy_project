{
  "nbformat": 4,
  "nbformat_minor": 0,
  "metadata": {
    "colab": {
      "provenance": []
    },
    "kernelspec": {
      "name": "python3",
      "display_name": "Python 3"
    },
    "language_info": {
      "name": "python"
    }
  },
  "cells": [
    {
      "cell_type": "code",
      "execution_count": 1,
      "metadata": {
        "id": "JFK27uj11TbE"
      },
      "outputs": [],
      "source": [
        "import numpy as np"
      ]
    },
    {
      "cell_type": "code",
      "source": [
        "def arithmetic(a, b):\n",
        "    print(\"\\n Performing Arithmetic Operations \")\n",
        "    print(\"Addition of both arrays:\", np.add(a, b))\n",
        "    print(\"Subtraction of both arrays:\", np.subtract(a, b))\n",
        "    print(\"Multiplication of both arrays:\", np.multiply(a, b))\n",
        "    print(\"Division of both arrays:\", np.divide(a, b))\n",
        "    print(\"Power operation between arrays:\", np.power(a, b))\n",
        "\n",
        "def statistics(a):\n",
        "    print(\"\\n Performing Statistical Analysis \")\n",
        "    print(\"Mean of the array:\", np.mean(a))\n",
        "    print(\"Median of the array:\", np.median(a))\n",
        "    print(\"Standard deviation of the array:\", np.std(a))\n",
        "    print(\"Variance of the array:\", np.var(a))\n",
        "    print(\"Minimum value in the array:\", np.min(a))\n",
        "    print(\"Maximum value in the array:\", np.max(a))\n",
        "    print(\"Sum of all elements:\", np.sum(a))\n",
        "    print(\"Product of all elements:\", np.prod(a))\n",
        "    print(\"Shape of the array:\", a.shape)\n",
        "    print(\"Size of the array:\", a.size)\n",
        "    print(\"Data type of the array:\", a.dtype)\n",
        "\n",
        "def manipulation(a):\n",
        "    print(\"\\n Performing Array Manipulations \")\n",
        "    print(\"Original array:\", a)\n",
        "    print(\"Shape:\", a.shape, \"| Total elements:\", a.size)\n",
        "\n",
        "    # Display all possible 2D shapes\n",
        "    print(\"\\n All Possible 2D Reshapes \")\n",
        "    for i in range(1, a.size + 1):\n",
        "        if a.size % i == 0:\n",
        "            try:\n",
        "                print(f\"Reshaped to {i} x {a.size//i}:\\n\", a.reshape(i, a.size//i))\n",
        "            except:\n",
        "                pass\n",
        "\n",
        "    # Display all possible 3D shapes\n",
        "    print(\"\\n All Possible 3D Reshapes \")\n",
        "    for i in range(1, a.size + 1):\n",
        "        for j in range(1, a.size + 1):\n",
        "            if a.size % (i * j) == 0:\n",
        "                try:\n",
        "                    print(f\"Reshaped to {i} x {j} x {a.size//(i*j)}:\\n\", a.reshape(i, j, a.size//(i*j)))\n",
        "                except:\n",
        "                    pass\n",
        "\n",
        "    # Sorting and Reverse Sorting\n",
        "    print(\"\\nSorted array (ascending order):\", np.sort(a))\n",
        "    print(\"Sorted array (descending order):\", np.sort(a)[::-1])\n",
        "\n",
        "    # Unique Values\n",
        "    print(\"Unique values in the array:\", np.unique(a))\n",
        "\n",
        "    # Accessing Elements\n",
        "    print(\"First element of the array:\", a[0])\n",
        "    print(\"Last element of the array:\", a[-1])\n",
        "\n",
        "    # Filtering Values Greater Than Mean\n",
        "    mean_val = np.mean(a)\n",
        "    print(f\"\\nMean value of the array: {mean_val}\")\n",
        "    print(\"Elements greater than the mean:\", a[a > mean_val])\n",
        "\n",
        "def main():\n",
        "    print(\"\\n Welcome to the NumPy Mathematical Calculator \")\n",
        "    while True:\n",
        "        print(\"\\nSelect an option:\")\n",
        "        print(\"0. Perform Arithmetic Operations\")\n",
        "        print(\"1. Perform Statistical Analysis\")\n",
        "        print(\"2. Perform Array Manipulations\")\n",
        "        print(\"3. Exit the Program\")\n",
        "\n",
        "        try:\n",
        "            choice = int(input(\"Enter your choice (1–4): \"))\n",
        "            if choice == 4:\n",
        "                print(\"\\n Exiting the program... May your logic always shine bright! \")\n",
        "                break\n",
        "\n",
        "            a = np.array(list(map(float, input(\"\\nEnter the elements of the first array (space-separated): \").split())))\n",
        "\n",
        "            if choice == 1:\n",
        "                b = np.array(list(map(float, input(\"Enter the elements of the second array (space-separated): \").split())))\n",
        "                arithmetic(a, b)\n",
        "            elif choice == 2:\n",
        "                statistics(a)\n",
        "            elif choice == 3:\n",
        "                manipulation(a)\n",
        "            else:\n",
        "                print(\"Please enter a valid option between 1 and 4.\")\n",
        "        except Exception as e:\n",
        "            print(\"\\nAn error occurred:\", e)\n",
        "\n",
        "main()"
      ],
      "metadata": {
        "id": "qcukoMTE1vGX",
        "colab": {
          "base_uri": "https://localhost:8080/"
        },
        "outputId": "df90b72a-b9eb-4495-e429-48deb10f3cb9"
      },
      "execution_count": 4,
      "outputs": [
        {
          "output_type": "stream",
          "name": "stdout",
          "text": [
            "\n",
            " Welcome to the NumPy Mathematical Calculator \n",
            "\n",
            "Select an option:\n",
            "0. Perform Arithmetic Operations\n",
            "1. Perform Statistical Analysis\n",
            "2. Perform Array Manipulations\n",
            "3. Exit the Program\n",
            "Enter your choice (1–4): 4\n",
            "\n",
            " Exiting the program... May your logic always shine bright! \n"
          ]
        }
      ]
    }
  ]
}