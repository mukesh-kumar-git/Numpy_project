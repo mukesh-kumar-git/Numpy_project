{
  "nbformat": 4,
  "nbformat_minor": 0,
  "metadata": {
    "colab": {
      "provenance": []
    },
    "kernelspec": {
      "name": "python3",
      "display_name": "Python 3"
    },
    "language_info": {
      "name": "python"
    }
  },
  "cells": [
    {
      "cell_type": "markdown",
      "source": [
        "### 🎯 **Objective:**\n",
        "\n",
        "You are working with student marks data and need to prepare and organize it using NumPy arrays.Your goal is to create, modify, and analyze the data efficiently without using any external libraries.\n",
        "\n",
        "### 🧠 **Project Description:**\n",
        "\n",
        "A school has recorded the marks of several students in different subjects.You are required to design a NumPy-based solution to store, manage, and process this data.Your tasks involve creating arrays, changing their shapes, combining data, performing modifications, and analyzing patterns — all using NumPy.\n",
        "\n",
        "### 📋 **Project Tasks:**\n",
        "\n",
        "1.  **Data Creation:**Create suitable arrays to represent students, subjects, and their marks.\n",
        "    \n",
        "2.  **Data Exploration:**Explore the properties of these arrays — such as their dimensions, size, and structure.\n",
        "    \n",
        "3.  **Data Transformation:**Perform necessary reshaping and reorganization of the data to suit various operations.\n",
        "    \n",
        "4.  **Data Combination:**Merge or split arrays to simulate adding new students, new subjects, or reorganizing the dataset.\n",
        "    \n",
        "5.  **Data Modification:**Apply operations to update marks, remove data, or identify unique information.\n",
        "    \n",
        "6.  **Data Type Handling:**Demonstrate how the same data can exist in different data types and how changes affect results.\n",
        "    \n",
        "7.  **Copy and View Behavior:**Show the difference between creating a full copy of an array and creating a view of the same data."
      ],
      "metadata": {
        "id": "rLsUO-sI0H1F"
      }
    },
    {
      "cell_type": "markdown",
      "source": [
        "**Importing numpy**"
      ],
      "metadata": {
        "id": "URBnGbRSdrF6"
      }
    },
    {
      "cell_type": "code",
      "source": [
        "import numpy as np"
      ],
      "metadata": {
        "id": "5tFkGviCdtx-"
      },
      "execution_count": null,
      "outputs": []
    },
    {
      "cell_type": "markdown",
      "source": [
        "**TASK 1:-Data Creation:Create suitable arrays to represent students, subjects, and their marks. **"
      ],
      "metadata": {
        "id": "t8948771Wt3b"
      }
    },
    {
      "cell_type": "code",
      "source": [
        "# Create arrays for student IDs, subject IDs, and marks (2D array)\n",
        "stud = np.array([[1, 2, 3, 4, 5], [121, 122, 123, 124, 125], [35, 98, 65, 45, 26]])  # used to create the array 1st array is student_id 2nd array is subj_id 3rd array is marks\n",
        "print(\"Data Creation:\")\n",
        "print(stud)"
      ],
      "metadata": {
        "id": "6DwV7nNmTX-V",
        "colab": {
          "base_uri": "https://localhost:8080/"
        },
        "outputId": "e29bfaea-f20e-49b2-aac6-8b8d2134d27e"
      },
      "execution_count": null,
      "outputs": [
        {
          "output_type": "stream",
          "name": "stdout",
          "text": [
            "Data Creation:\n",
            "[[  1   2   3   4   5]\n",
            " [121 122 123 124 125]\n",
            " [ 35  98  65  45  26]]\n"
          ]
        }
      ]
    },
    {
      "cell_type": "markdown",
      "source": [
        "TASK 2:- Data Exploration:**Explore the properties of these arrays — such as their dimensions, size, and structure."
      ],
      "metadata": {
        "id": "xNYtDppxW0ip"
      }
    },
    {
      "cell_type": "code",
      "source": [
        "print(\"Data Exploration:\")\n",
        "print(\"Array Shape:\", stud.shape)\n",
        "print(\"Array Size:\", stud.size)\n",
        "print(\"Array Data Type:\", stud.dtype)"
      ],
      "metadata": {
        "colab": {
          "base_uri": "https://localhost:8080/"
        },
        "id": "iamDxec6W5Wb",
        "outputId": "ebc5216f-1be2-416f-b571-234beea5afcd"
      },
      "execution_count": null,
      "outputs": [
        {
          "output_type": "stream",
          "name": "stdout",
          "text": [
            "Data Exploration:\n",
            "Array Shape: (3, 5)\n",
            "Array Size: 15\n",
            "Array Data Type: int64\n"
          ]
        }
      ]
    },
    {
      "cell_type": "markdown",
      "source": [
        "TASK 3:-Data Transformation:**Perform necessary reshaping and reorganization of the data to suit various operations."
      ],
      "metadata": {
        "id": "1vV0iA4gYcb-"
      }
    },
    {
      "cell_type": "code",
      "source": [
        "print(\"Data Transformation:\")\n",
        "# Reshape the array to a 3x5 matrix\n",
        "reshaped_stud = stud.reshape(3, 5)\n",
        "print(\"Reshaped Array:\")\n",
        "print(reshaped_stud)\n"
      ],
      "metadata": {
        "colab": {
          "base_uri": "https://localhost:8080/"
        },
        "id": "MKTfDUjCYh69",
        "outputId": "01fa4562-f259-4854-a8f5-26658491a303"
      },
      "execution_count": null,
      "outputs": [
        {
          "output_type": "stream",
          "name": "stdout",
          "text": [
            "Data Transformation:\n",
            "Reshaped Array:\n",
            "[[  1   2   3   4   5]\n",
            " [121 122 123 124 125]\n",
            " [ 35  98  65  45  26]]\n"
          ]
        }
      ]
    },
    {
      "cell_type": "markdown",
      "source": [
        "TASK4:- Data Combination:**Merge or split arrays to simulate adding new students, new subjects, or reorganizing the dataset.**bold text**"
      ],
      "metadata": {
        "id": "NLxAOaGT7zaN"
      }
    },
    {
      "cell_type": "code",
      "source": [
        "print(\"Data Combination:\")\n",
        "# Combine the original array with another array of new student marks\n",
        "new_student_marks = np.array([[65,85,67, 98, 70]])  # Ensure the new array has the correct number of columns\n",
        "combined_stud = np.vstack((stud, new_student_marks))\n",
        "print(\"Combined Array:\")\n",
        "print(combined_stud)"
      ],
      "metadata": {
        "colab": {
          "base_uri": "https://localhost:8080/"
        },
        "id": "KSn4LMpL7yPK",
        "outputId": "ed0e9d45-134e-4818-cfc5-da9a2623de94"
      },
      "execution_count": null,
      "outputs": [
        {
          "output_type": "stream",
          "name": "stdout",
          "text": [
            "Data Combination:\n",
            "Combined Array:\n",
            "[[  1   2   3   4   5]\n",
            " [121 122 123 124 125]\n",
            " [ 35  98  65  45  26]\n",
            " [ 65  85  67  98  70]]\n"
          ]
        }
      ]
    },
    {
      "cell_type": "markdown",
      "source": [
        "TASK 5:- Data Modification:**Apply operations to update marks, remove data, or identify unique information.**bold text**"
      ],
      "metadata": {
        "id": "ERjEy7jG8sEB"
      }
    },
    {
      "cell_type": "code",
      "source": [
        "print(\"Data Modification:\")\n",
        "# Update the marks of a specific student\n",
        "combined_stud[2, 2] = 80  # Change the mark of the third student in the third subject to 80 from 65\n",
        "print(\"Updated Array:\")\n",
        "print(combined_stud)"
      ],
      "metadata": {
        "colab": {
          "base_uri": "https://localhost:8080/"
        },
        "id": "_ZJqIG_Z8wGU",
        "outputId": "2655e606-8aab-4bd6-f34f-abf367f66a72"
      },
      "execution_count": null,
      "outputs": [
        {
          "output_type": "stream",
          "name": "stdout",
          "text": [
            "Data Modification:\n",
            "Updated Array:\n",
            "[[  1   2   3   4   5]\n",
            " [121 122 123 124 125]\n",
            " [ 35  98  80  45  26]\n",
            " [ 65  85  67  98  70]]\n"
          ]
        }
      ]
    },
    {
      "cell_type": "markdown",
      "source": [
        "Task 6:- Data Type Handling:**Demonstrate how the same data can exist in different data types and how changes affect results.**bold text**"
      ],
      "metadata": {
        "id": "5gPz-0qZ9AG9"
      }
    },
    {
      "cell_type": "code",
      "source": [
        "print(\"Data Type Handling:\")\n",
        "combined_stud = combined_stud.astype(float)   # Convert the marks to a different data type here converted to float\n",
        "print(\"Array with Float Data Type:\")\n",
        "print(combined_stud)"
      ],
      "metadata": {
        "colab": {
          "base_uri": "https://localhost:8080/"
        },
        "id": "hu55zWY49WG8",
        "outputId": "c9a4050c-e896-48e2-84a2-b22b62226c5b"
      },
      "execution_count": null,
      "outputs": [
        {
          "output_type": "stream",
          "name": "stdout",
          "text": [
            "Data Type Handling:\n",
            "Array with Float Data Type:\n",
            "[[  1.   2.   3.   4.   5.]\n",
            " [121. 122. 123. 124. 125.]\n",
            " [ 35.  98.  80.  45.  26.]\n",
            " [ 65.  85.  67.  98.  70.]]\n"
          ]
        }
      ]
    },
    {
      "cell_type": "markdown",
      "source": [
        "Task 7:- Copy and View Behavior:**Show the difference between creating a full copy of an array and creating a view of the same data."
      ],
      "metadata": {
        "id": "z60OIWgw-gir"
      }
    },
    {
      "cell_type": "code",
      "source": [
        "print(\"Copy and View Behavior:\")\n",
        "# Create a view of the array\n",
        "view_stud = combined_stud.view()\n",
        "print(\"View of the Array:\")\n",
        "print(view_stud)\n",
        "\n",
        "# Create a full copy of the array\n",
        "copy_stud = combined_stud.copy()\n",
        "print(\"Full Copy of the Array:\")\n",
        "print(copy_stud)"
      ],
      "metadata": {
        "colab": {
          "base_uri": "https://localhost:8080/"
        },
        "id": "_Tcd6NqU-l9_",
        "outputId": "3ba0d54a-b96c-49bd-ee43-5d8d10986c91"
      },
      "execution_count": null,
      "outputs": [
        {
          "output_type": "stream",
          "name": "stdout",
          "text": [
            "Copy and View Behavior:\n",
            "View of the Array:\n",
            "[[  1.   2.   3.   4.   5.]\n",
            " [121. 122. 123. 124. 125.]\n",
            " [ 35.  98.  80.  45.  26.]\n",
            " [ 65.  85.  67.  98.  70.]]\n",
            "Full Copy of the Array:\n",
            "[[  1.   2.   3.   4.   5.]\n",
            " [121. 122. 123. 124. 125.]\n",
            " [ 35.  98.  80.  45.  26.]\n",
            " [ 65.  85.  67.  98.  70.]]\n"
          ]
        }
      ]
    }
  ]
}